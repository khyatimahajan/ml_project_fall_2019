{
 "cells": [
  {
   "cell_type": "markdown",
   "metadata": {},
   "source": [
    "# Exploratory Data Analysis"
   ]
  },
  {
   "cell_type": "markdown",
   "metadata": {},
   "source": [
    "# About the Data\n",
    "Taken from Kaggle Datasets, the [chest X-ray data](https://www.kaggle.com/paultimothymooney/chest-xray-pneumonia/download) is a dataset used in the \"[*Identifying Medical Diagnoses and Treatable Diseases by Image-Based Deep Learning*](https://www.cell.com/cell/fulltext/S0092-8674\(18\)30154-5)\" paper to study the detection of pnuemonia using chest X-ray data and transfer learning with CNNs for modeling the data."
   ]
  },
  {
   "cell_type": "code",
   "execution_count": 1,
   "metadata": {},
   "outputs": [],
   "source": [
    "# Importing required libraries.\n",
    "import cv2 as cv\n",
    "import glob\n",
    "import numpy as np\n",
    "import pandas as pd"
   ]
  },
  {
   "cell_type": "markdown",
   "metadata": {},
   "source": [
    "### Training data"
   ]
  },
  {
   "cell_type": "code",
   "execution_count": 2,
   "metadata": {},
   "outputs": [],
   "source": [
    "dirImage = 'chest_xray_pneumonia/train/'\n",
    "\n",
    "filenames_normal = []\n",
    "filenames_normal += glob.glob(dirImage+\"NORMAL/*\")\n",
    "\n",
    "filenames_penumonia = []\n",
    "filenames_penumonia += glob.glob(dirImage+\"PNEUMONIA/*\")"
   ]
  },
  {
   "cell_type": "code",
   "execution_count": 3,
   "metadata": {},
   "outputs": [],
   "source": [
    "train_images = []\n",
    "train_labels = []\n",
    "\n",
    "\n",
    "for file in filenames_normal:\n",
    "    img = np.asarray(cv.imread(file, 0))\n",
    "    train_images.append(img)\n",
    "\n",
    "for file in filenames_normal:\n",
    "    train_labels.append(0)\n",
    "    \n",
    "for file in filenames_penumonia:\n",
    "    img = np.asarray(cv.imread(file, 0))\n",
    "    train_images.append(img)\n",
    "\n",
    "for file in filenames_normal:\n",
    "    train_labels.append(1)\n",
    "\n",
    "train_images = np.asarray(train_images)"
   ]
  },
  {
   "cell_type": "code",
   "execution_count": 4,
   "metadata": {},
   "outputs": [],
   "source": [
    "# image sizes\n",
    "train_image_heights = []\n",
    "train_image_widths = []\n",
    "for image in train_images:\n",
    "    train_image_heights.append(image.shape[0])\n",
    "    train_image_widths.append(image.shape[1])\n",
    "\n",
    "train_image_size_info = {'img_heights': train_image_heights, 'img_widths': train_image_widths}\n",
    "train_image_size_info = pd.DataFrame(train_image_size_info)"
   ]
  },
  {
   "cell_type": "code",
   "execution_count": 5,
   "metadata": {},
   "outputs": [
    {
     "data": {
      "text/html": [
       "<div>\n",
       "<style scoped>\n",
       "    .dataframe tbody tr th:only-of-type {\n",
       "        vertical-align: middle;\n",
       "    }\n",
       "\n",
       "    .dataframe tbody tr th {\n",
       "        vertical-align: top;\n",
       "    }\n",
       "\n",
       "    .dataframe thead th {\n",
       "        text-align: right;\n",
       "    }\n",
       "</style>\n",
       "<table border=\"1\" class=\"dataframe\">\n",
       "  <thead>\n",
       "    <tr style=\"text-align: right;\">\n",
       "      <th></th>\n",
       "      <th>img_heights</th>\n",
       "      <th>img_widths</th>\n",
       "    </tr>\n",
       "  </thead>\n",
       "  <tbody>\n",
       "    <tr>\n",
       "      <th>count</th>\n",
       "      <td>5216.000000</td>\n",
       "      <td>5216.000000</td>\n",
       "    </tr>\n",
       "    <tr>\n",
       "      <th>mean</th>\n",
       "      <td>968.074770</td>\n",
       "      <td>1320.610813</td>\n",
       "    </tr>\n",
       "    <tr>\n",
       "      <th>std</th>\n",
       "      <td>378.855691</td>\n",
       "      <td>355.298743</td>\n",
       "    </tr>\n",
       "    <tr>\n",
       "      <th>min</th>\n",
       "      <td>127.000000</td>\n",
       "      <td>384.000000</td>\n",
       "    </tr>\n",
       "    <tr>\n",
       "      <th>25%</th>\n",
       "      <td>688.000000</td>\n",
       "      <td>1056.000000</td>\n",
       "    </tr>\n",
       "    <tr>\n",
       "      <th>50%</th>\n",
       "      <td>888.000000</td>\n",
       "      <td>1284.000000</td>\n",
       "    </tr>\n",
       "    <tr>\n",
       "      <th>75%</th>\n",
       "      <td>1187.750000</td>\n",
       "      <td>1552.000000</td>\n",
       "    </tr>\n",
       "    <tr>\n",
       "      <th>max</th>\n",
       "      <td>2663.000000</td>\n",
       "      <td>2916.000000</td>\n",
       "    </tr>\n",
       "  </tbody>\n",
       "</table>\n",
       "</div>"
      ],
      "text/plain": [
       "       img_heights   img_widths\n",
       "count  5216.000000  5216.000000\n",
       "mean    968.074770  1320.610813\n",
       "std     378.855691   355.298743\n",
       "min     127.000000   384.000000\n",
       "25%     688.000000  1056.000000\n",
       "50%     888.000000  1284.000000\n",
       "75%    1187.750000  1552.000000\n",
       "max    2663.000000  2916.000000"
      ]
     },
     "execution_count": 5,
     "metadata": {},
     "output_type": "execute_result"
    }
   ],
   "source": [
    "train_image_size_info.describe()"
   ]
  },
  {
   "cell_type": "markdown",
   "metadata": {},
   "source": [
    "### Validation data"
   ]
  },
  {
   "cell_type": "code",
   "execution_count": 6,
   "metadata": {},
   "outputs": [],
   "source": [
    "dirImage = 'chest_xray_pneumonia/val/'\n",
    "\n",
    "filenames_normal = []\n",
    "filenames_normal += glob.glob(dirImage+\"NORMAL/*\")\n",
    "\n",
    "filenames_penumonia = []\n",
    "filenames_penumonia += glob.glob(dirImage+\"PNEUMONIA/*\")"
   ]
  },
  {
   "cell_type": "code",
   "execution_count": 7,
   "metadata": {},
   "outputs": [],
   "source": [
    "val_images = []\n",
    "val_labels = []\n",
    "\n",
    "\n",
    "for file in filenames_normal:\n",
    "    img = np.asarray(cv.imread(file, 0))\n",
    "    val_images.append(img)\n",
    "\n",
    "for file in filenames_normal:\n",
    "    val_labels.append(0)\n",
    "    \n",
    "for file in filenames_penumonia:\n",
    "    img = np.asarray(cv.imread(file, 0))\n",
    "    val_images.append(img)\n",
    "\n",
    "for file in filenames_normal:\n",
    "    val_labels.append(1)\n",
    "\n",
    "val_images = np.asarray(val_images)"
   ]
  },
  {
   "cell_type": "code",
   "execution_count": 8,
   "metadata": {},
   "outputs": [],
   "source": [
    "# image sizes\n",
    "val_image_heights = []\n",
    "val_image_widths = []\n",
    "for image in val_images:\n",
    "    val_image_heights.append(image.shape[0])\n",
    "    val_image_widths.append(image.shape[1])\n",
    "\n",
    "val_image_size_info = {'img_heights': val_image_heights, 'img_widths': val_image_widths}\n",
    "val_image_size_info = pd.DataFrame(val_image_size_info)"
   ]
  },
  {
   "cell_type": "code",
   "execution_count": 9,
   "metadata": {},
   "outputs": [
    {
     "data": {
      "text/html": [
       "<div>\n",
       "<style scoped>\n",
       "    .dataframe tbody tr th:only-of-type {\n",
       "        vertical-align: middle;\n",
       "    }\n",
       "\n",
       "    .dataframe tbody tr th {\n",
       "        vertical-align: top;\n",
       "    }\n",
       "\n",
       "    .dataframe thead th {\n",
       "        text-align: right;\n",
       "    }\n",
       "</style>\n",
       "<table border=\"1\" class=\"dataframe\">\n",
       "  <thead>\n",
       "    <tr style=\"text-align: right;\">\n",
       "      <th></th>\n",
       "      <th>img_heights</th>\n",
       "      <th>img_widths</th>\n",
       "    </tr>\n",
       "  </thead>\n",
       "  <tbody>\n",
       "    <tr>\n",
       "      <th>count</th>\n",
       "      <td>16.000000</td>\n",
       "      <td>16.000000</td>\n",
       "    </tr>\n",
       "    <tr>\n",
       "      <th>mean</th>\n",
       "      <td>1002.937500</td>\n",
       "      <td>1348.250000</td>\n",
       "    </tr>\n",
       "    <tr>\n",
       "      <th>std</th>\n",
       "      <td>262.954868</td>\n",
       "      <td>256.771624</td>\n",
       "    </tr>\n",
       "    <tr>\n",
       "      <th>min</th>\n",
       "      <td>592.000000</td>\n",
       "      <td>968.000000</td>\n",
       "    </tr>\n",
       "    <tr>\n",
       "      <th>25%</th>\n",
       "      <td>826.000000</td>\n",
       "      <td>1182.000000</td>\n",
       "    </tr>\n",
       "    <tr>\n",
       "      <th>50%</th>\n",
       "      <td>996.000000</td>\n",
       "      <td>1280.000000</td>\n",
       "    </tr>\n",
       "    <tr>\n",
       "      <th>75%</th>\n",
       "      <td>1152.250000</td>\n",
       "      <td>1581.000000</td>\n",
       "    </tr>\n",
       "    <tr>\n",
       "      <th>max</th>\n",
       "      <td>1416.000000</td>\n",
       "      <td>1776.000000</td>\n",
       "    </tr>\n",
       "  </tbody>\n",
       "</table>\n",
       "</div>"
      ],
      "text/plain": [
       "       img_heights   img_widths\n",
       "count    16.000000    16.000000\n",
       "mean   1002.937500  1348.250000\n",
       "std     262.954868   256.771624\n",
       "min     592.000000   968.000000\n",
       "25%     826.000000  1182.000000\n",
       "50%     996.000000  1280.000000\n",
       "75%    1152.250000  1581.000000\n",
       "max    1416.000000  1776.000000"
      ]
     },
     "execution_count": 9,
     "metadata": {},
     "output_type": "execute_result"
    }
   ],
   "source": [
    "val_image_size_info.describe()"
   ]
  },
  {
   "cell_type": "markdown",
   "metadata": {},
   "source": [
    "### Testing data"
   ]
  },
  {
   "cell_type": "code",
   "execution_count": 10,
   "metadata": {},
   "outputs": [],
   "source": [
    "dirImage = 'chest_xray_pneumonia/test/'\n",
    "\n",
    "filenames_normal = []\n",
    "filenames_normal += glob.glob(dirImage+\"NORMAL/*\")\n",
    "\n",
    "filenames_penumonia = []\n",
    "filenames_penumonia += glob.glob(dirImage+\"PNEUMONIA/*\")"
   ]
  },
  {
   "cell_type": "code",
   "execution_count": 11,
   "metadata": {},
   "outputs": [],
   "source": [
    "test_images = []\n",
    "test_labels = []\n",
    "\n",
    "\n",
    "for file in filenames_normal:\n",
    "    img = np.asarray(cv.imread(file, 0))\n",
    "    test_images.append(img)\n",
    "\n",
    "for file in filenames_normal:\n",
    "    test_labels.append(0)\n",
    "    \n",
    "for file in filenames_penumonia:\n",
    "    img = np.asarray(cv.imread(file, 0))\n",
    "    test_images.append(img)\n",
    "\n",
    "for file in filenames_normal:\n",
    "    test_labels.append(1)\n",
    "\n",
    "test_images = np.asarray(test_images)"
   ]
  },
  {
   "cell_type": "code",
   "execution_count": 12,
   "metadata": {},
   "outputs": [],
   "source": [
    "# image sizes\n",
    "test_image_heights = []\n",
    "test_image_widths = []\n",
    "for image in test_images:\n",
    "    test_image_heights.append(image.shape[0])\n",
    "    test_image_widths.append(image.shape[1])\n",
    "\n",
    "test_image_size_info = {'img_heights': test_image_heights, 'img_widths': test_image_widths}\n",
    "test_image_size_info = pd.DataFrame(test_image_size_info)"
   ]
  },
  {
   "cell_type": "code",
   "execution_count": 13,
   "metadata": {},
   "outputs": [
    {
     "data": {
      "text/html": [
       "<div>\n",
       "<style scoped>\n",
       "    .dataframe tbody tr th:only-of-type {\n",
       "        vertical-align: middle;\n",
       "    }\n",
       "\n",
       "    .dataframe tbody tr th {\n",
       "        vertical-align: top;\n",
       "    }\n",
       "\n",
       "    .dataframe thead th {\n",
       "        text-align: right;\n",
       "    }\n",
       "</style>\n",
       "<table border=\"1\" class=\"dataframe\">\n",
       "  <thead>\n",
       "    <tr style=\"text-align: right;\">\n",
       "      <th></th>\n",
       "      <th>img_heights</th>\n",
       "      <th>img_widths</th>\n",
       "    </tr>\n",
       "  </thead>\n",
       "  <tbody>\n",
       "    <tr>\n",
       "      <th>count</th>\n",
       "      <td>624.000000</td>\n",
       "      <td>624.000000</td>\n",
       "    </tr>\n",
       "    <tr>\n",
       "      <th>mean</th>\n",
       "      <td>991.714744</td>\n",
       "      <td>1388.128205</td>\n",
       "    </tr>\n",
       "    <tr>\n",
       "      <th>std</th>\n",
       "      <td>421.608963</td>\n",
       "      <td>423.573061</td>\n",
       "    </tr>\n",
       "    <tr>\n",
       "      <th>min</th>\n",
       "      <td>344.000000</td>\n",
       "      <td>728.000000</td>\n",
       "    </tr>\n",
       "    <tr>\n",
       "      <th>25%</th>\n",
       "      <td>688.000000</td>\n",
       "      <td>1072.000000</td>\n",
       "    </tr>\n",
       "    <tr>\n",
       "      <th>50%</th>\n",
       "      <td>870.500000</td>\n",
       "      <td>1265.000000</td>\n",
       "    </tr>\n",
       "    <tr>\n",
       "      <th>75%</th>\n",
       "      <td>1183.250000</td>\n",
       "      <td>1640.000000</td>\n",
       "    </tr>\n",
       "    <tr>\n",
       "      <th>max</th>\n",
       "      <td>2713.000000</td>\n",
       "      <td>2752.000000</td>\n",
       "    </tr>\n",
       "  </tbody>\n",
       "</table>\n",
       "</div>"
      ],
      "text/plain": [
       "       img_heights   img_widths\n",
       "count   624.000000   624.000000\n",
       "mean    991.714744  1388.128205\n",
       "std     421.608963   423.573061\n",
       "min     344.000000   728.000000\n",
       "25%     688.000000  1072.000000\n",
       "50%     870.500000  1265.000000\n",
       "75%    1183.250000  1640.000000\n",
       "max    2713.000000  2752.000000"
      ]
     },
     "execution_count": 13,
     "metadata": {},
     "output_type": "execute_result"
    }
   ],
   "source": [
    "test_image_size_info.describe()"
   ]
  },
  {
   "cell_type": "code",
   "execution_count": null,
   "metadata": {},
   "outputs": [],
   "source": []
  }
 ],
 "metadata": {
  "kernelspec": {
   "display_name": "Python 3",
   "language": "python",
   "name": "python3"
  },
  "language_info": {
   "codemirror_mode": {
    "name": "ipython",
    "version": 3
   },
   "file_extension": ".py",
   "mimetype": "text/x-python",
   "name": "python",
   "nbconvert_exporter": "python",
   "pygments_lexer": "ipython3",
   "version": "3.7.5"
  }
 },
 "nbformat": 4,
 "nbformat_minor": 4
}
