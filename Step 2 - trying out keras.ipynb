{
 "cells": [
  {
   "cell_type": "markdown",
   "metadata": {},
   "source": [
    "# Trying out keras and tensorflow"
   ]
  },
  {
   "cell_type": "code",
   "execution_count": 1,
   "metadata": {},
   "outputs": [
    {
     "name": "stdout",
     "output_type": "stream",
     "text": [
      "2.0.0\n"
     ]
    }
   ],
   "source": [
    "# TensorFlow and tf.keras\n",
    "import tensorflow as tf\n",
    "from tensorflow import keras\n",
    "\n",
    "# Helper libraries\n",
    "import numpy as np\n",
    "import matplotlib.pyplot as plt\n",
    "import cv2 as cv\n",
    "import glob\n",
    "\n",
    "print(tf.__version__)"
   ]
  },
  {
   "cell_type": "markdown",
   "metadata": {},
   "source": [
    "## Loading dataset"
   ]
  },
  {
   "cell_type": "markdown",
   "metadata": {},
   "source": [
    "### Training dataset"
   ]
  },
  {
   "cell_type": "code",
   "execution_count": 2,
   "metadata": {},
   "outputs": [
    {
     "name": "stdout",
     "output_type": "stream",
     "text": [
      "Training images:  3747\n",
      "Training labels:  3747\n"
     ]
    }
   ],
   "source": [
    "dirImage = 'chest_xray_pneumonia/train/'\n",
    "\n",
    "filenames_normal = []\n",
    "filenames_normal += glob.glob(dirImage+\"NORMAL/*\")\n",
    "\n",
    "filenames_penumonia = []\n",
    "filenames_penumonia += glob.glob(dirImage+\"PNEUMONIA/*\")\n",
    "\n",
    "train_images = []\n",
    "train_labels = []\n",
    "\n",
    "for file in filenames_normal:\n",
    "    img = np.asarray(cv.imread(file, 0))\n",
    "    train_images.append(img)\n",
    "    train_labels.append(0)\n",
    "    \n",
    "for file in filenames_penumonia:\n",
    "    img = np.asarray(cv.imread(file, 0))\n",
    "    train_images.append(img)\n",
    "    train_labels.append(1)\n",
    "\n",
    "train_images = np.asarray(train_images)\n",
    "\n",
    "train_selected_indices = []\n",
    "for i in range(len(train_images)):\n",
    "    if train_images[i].shape[0] >= 688 and train_images[i].shape[1] >= 1024:\n",
    "        train_selected_indices.append(i)\n",
    "        \n",
    "train_images_selected = np.copy(train_images[train_selected_indices])\n",
    "train_labels_selected = list(map(train_labels.__getitem__, train_selected_indices))\n",
    "print('Training images: ', len(train_images_selected))\n",
    "print('Training labels: ', len(train_labels_selected))\n",
    "\n",
    "for i in range(len(train_images_selected)):\n",
    "    train_images_selected[i].resize((688, 1024), refcheck=False)\n",
    "\n",
    "train_labels_selected = np.asarray(train_labels_selected)\n",
    "train_images_selected.resize((3747, 688, 1024), refcheck=False)"
   ]
  },
  {
   "cell_type": "code",
   "execution_count": 3,
   "metadata": {},
   "outputs": [
    {
     "name": "stdout",
     "output_type": "stream",
     "text": [
      "Validation images:  13\n",
      "Validation labels:  13\n"
     ]
    }
   ],
   "source": [
    "dirImage = 'chest_xray_pneumonia/val/'\n",
    "\n",
    "filenames_normal = []\n",
    "filenames_normal += glob.glob(dirImage+\"NORMAL/*\")\n",
    "\n",
    "filenames_penumonia = []\n",
    "filenames_penumonia += glob.glob(dirImage+\"PNEUMONIA/*\")\n",
    "\n",
    "val_images = []\n",
    "val_labels = []\n",
    "\n",
    "for file in filenames_normal:\n",
    "    img = np.asarray(cv.imread(file, 0))\n",
    "    val_images.append(img)\n",
    "    val_labels.append(0)\n",
    "    \n",
    "for file in filenames_penumonia:\n",
    "    img = np.asarray(cv.imread(file, 0))\n",
    "    val_images.append(img)\n",
    "    val_labels.append(1)\n",
    "\n",
    "val_images = np.asarray(val_images)\n",
    "\n",
    "val_selected_indices = []\n",
    "for i in range(len(val_images)):\n",
    "    if val_images[i].shape[0] >= 688 and val_images[i].shape[1] >= 1024:\n",
    "        val_selected_indices.append(i)\n",
    "        \n",
    "val_images_selected = np.copy(val_images[val_selected_indices])\n",
    "val_labels_selected = list(map(val_labels.__getitem__, val_selected_indices))\n",
    "print('Validation images: ', len(val_images_selected))\n",
    "print('Validation labels: ', len(val_labels_selected))\n",
    "\n",
    "for i in range(len(val_images_selected)):\n",
    "    val_images_selected[i].resize((688, 1024), refcheck=False)\n",
    "    \n",
    "val_labels_selected = np.asarray(val_labels_selected)\n",
    "val_images_selected.resize((13, 688, 1024), refcheck=False)"
   ]
  },
  {
   "cell_type": "code",
   "execution_count": 4,
   "metadata": {},
   "outputs": [
    {
     "name": "stdout",
     "output_type": "stream",
     "text": [
      "Testing images:  444\n",
      "Testing labels:  444\n"
     ]
    }
   ],
   "source": [
    "dirImage = 'chest_xray_pneumonia/test/'\n",
    "\n",
    "filenames_normal = []\n",
    "filenames_normal += glob.glob(dirImage+\"NORMAL/*\")\n",
    "\n",
    "filenames_penumonia = []\n",
    "filenames_penumonia += glob.glob(dirImage+\"PNEUMONIA/*\")\n",
    "\n",
    "test_images = []\n",
    "test_labels = []\n",
    "\n",
    "\n",
    "for file in filenames_normal:\n",
    "    img = np.asarray(cv.imread(file, 0))\n",
    "    test_images.append(img)\n",
    "    test_labels.append(0)\n",
    "    \n",
    "for file in filenames_penumonia:\n",
    "    img = np.asarray(cv.imread(file, 0))\n",
    "    test_images.append(img)\n",
    "    test_labels.append(1)\n",
    "\n",
    "test_images = np.asarray(test_images)\n",
    "\n",
    "test_selected_indices = []\n",
    "for i in range(len(test_images)):\n",
    "    if test_images[i].shape[0] >= 688 and test_images[i].shape[1] >= 1024:\n",
    "        test_selected_indices.append(i)\n",
    "\n",
    "test_images_selected = np.copy(test_images[test_selected_indices])\n",
    "test_labels_selected = list(map(test_labels.__getitem__, test_selected_indices))\n",
    "print('Testing images: ', len(test_images_selected))\n",
    "print('Testing labels: ', len(test_labels_selected))\n",
    "\n",
    "for i in range(len(test_images_selected)):\n",
    "    test_images_selected[i].resize((688, 1024), refcheck=False)\n",
    "    \n",
    "test_labels_selected = np.asarray(test_labels_selected)\n",
    "test_images_selected.resize((444, 688, 1024), refcheck=False)"
   ]
  },
  {
   "cell_type": "markdown",
   "metadata": {},
   "source": [
    "## Scaling images"
   ]
  },
  {
   "cell_type": "code",
   "execution_count": null,
   "metadata": {},
   "outputs": [],
   "source": [
    "train_images_selected = train_images_selected / 255.0\n",
    "val_images_selected = val_images_selected / 255.0\n",
    "test_images_selected = test_images_selected / 255.0"
   ]
  },
  {
   "cell_type": "markdown",
   "metadata": {},
   "source": [
    "## Setting up model"
   ]
  },
  {
   "cell_type": "code",
   "execution_count": null,
   "metadata": {},
   "outputs": [],
   "source": [
    "model = keras.Sequential([\n",
    "    keras.layers.Flatten(input_shape=(688, 1024)),\n",
    "    keras.layers.Dense(128, activation='relu'),\n",
    "    keras.layers.Dense(10, activation='softmax')\n",
    "])"
   ]
  },
  {
   "cell_type": "code",
   "execution_count": null,
   "metadata": {},
   "outputs": [],
   "source": [
    "model.compile(optimizer='adam',\n",
    "              loss='sparse_categorical_crossentropy',\n",
    "              metrics=['accuracy'])"
   ]
  },
  {
   "cell_type": "code",
   "execution_count": null,
   "metadata": {},
   "outputs": [],
   "source": [
    "model.fit(train_images_selected, train_labels_selected, epochs=10)"
   ]
  },
  {
   "cell_type": "code",
   "execution_count": null,
   "metadata": {},
   "outputs": [],
   "source": []
  }
 ],
 "metadata": {
  "kernelspec": {
   "display_name": "Python 3",
   "language": "python",
   "name": "python3"
  },
  "language_info": {
   "codemirror_mode": {
    "name": "ipython",
    "version": 3
   },
   "file_extension": ".py",
   "mimetype": "text/x-python",
   "name": "python",
   "nbconvert_exporter": "python",
   "pygments_lexer": "ipython3",
   "version": "3.7.5"
  }
 },
 "nbformat": 4,
 "nbformat_minor": 4
}
